{
 "cells": [
  {
   "cell_type": "code",
   "execution_count": 4,
   "id": "fce42611",
   "metadata": {},
   "outputs": [
    {
     "name": "stdout",
     "output_type": "stream",
     "text": [
      "Red train D:   (1200, 12)\n",
      "Red train y:   (1200,)\n",
      "Red test D:    (399, 12)\n",
      "Red test y:    (399,)\n",
      "White train D: (3675, 12)\n",
      "White train y: (3675,)\n",
      "White test D:  (1223, 12)\n",
      "White test y:  (1223,)\n"
     ]
    }
   ],
   "source": [
    "# import modules\n",
    "import numpy as np\n",
    "import matplotlib.pyplot as plt\n",
    "from scipy import special\n",
    "from sklearn.linear_model import LogisticRegression\n",
    "import math\n",
    "\n",
    "\n",
    "# Load the data sets\n",
    "D_red   = np.loadtxt(open(\"winequality-red.csv\"), delimiter = ';', skiprows = 1)\n",
    "D_white = np.loadtxt(open(\"winequality-white.csv\"), delimiter = ';', skiprows = 1)\n",
    "\n",
    "\n",
    "# 75% train, 25% test\n",
    "D_red_train   = D_red[:1200]\n",
    "D_red_test    = D_red[1200:]\n",
    "\n",
    "D_white_train = D_white[:3675]\n",
    "D_white_test  = D_white[3675:]\n",
    "\n",
    "\n",
    "# Separate features and actual quality\n",
    "y_red_train = D_red_train[:, 11]\n",
    "D_red_train = np.delete(D_red_train, 11, 1)\n",
    "y_red_test  = D_red_test[:, 11]\n",
    "D_red_test  = np.delete(D_red_test, 11, 1)\n",
    "\n",
    "y_white_train = D_white_train[:, 11]\n",
    "D_white_train = np.delete(D_white_train, 11, 1)\n",
    "y_white_test  = D_white_test[:, 11]\n",
    "D_white_test  = np.delete(D_white_test, 11, 1)\n",
    "\n",
    "\n",
    "# Change quality score to a bucket   ** note: the actual qualities are actually from 3-9, but could have been 0-10\n",
    "# 1: 0 <= quality <= 5\n",
    "# 2: 6 <= quality <= 7\n",
    "# 3: 8 <= quality <= 10\n",
    "# def make_buckets(y):\n",
    "#     for i in range(y.shape[0]):\n",
    "#         if y[i] <= 5:\n",
    "#             y[i] = 1\n",
    "#         elif y[i] <= 7:\n",
    "#             y[i] = 2\n",
    "#         else:\n",
    "#             y[i] = 3\n",
    "#     return y\n",
    "\n",
    "# y_red_train   = make_buckets(y_red_train)\n",
    "# y_red_test    = make_buckets(y_red_test)\n",
    "# y_white_train = make_buckets(y_white_train)\n",
    "# y_white_test  = make_buckets(y_white_test)\n",
    "\n",
    "\n",
    "# Add a column for the predicted quality\n",
    "# D_red_train = np.append(np.ones((D_red_train.shape[0], 1)), D_red_train, axis = 1)\n",
    "# D_red_test  = np.append(np.ones((D_red_test.shape[0], 1)), D_red_test, axis = 1)\n",
    "\n",
    "# D_white_train = np.append(np.ones((D_white_train.shape[0], 1)), D_white_train, axis = 1)\n",
    "# D_white_test  = np.append(np.ones((D_white_test.shape[0], 1)), D_white_test, axis = 1)\n",
    "\n",
    "\n",
    "# Check shapes of data frames\n",
    "print(\"Red train D:  \", D_red_train.shape)\n",
    "print(\"Red train y:  \", y_red_train.shape)\n",
    "print(\"Red test D:   \", D_red_test.shape)\n",
    "print(\"Red test y:   \", y_red_test.shape)\n",
    "\n",
    "print(\"White train D:\", D_white_train.shape)\n",
    "print(\"White train y:\", y_white_train.shape)\n",
    "print(\"White test D: \", D_white_test.shape)\n",
    "print(\"White test y: \", y_white_test.shape)"
   ]
  },
  {
   "cell_type": "code",
   "execution_count": 2,
   "id": "58437556",
   "metadata": {},
   "outputs": [
    {
     "ename": "NameError",
     "evalue": "name 'X_train' is not defined",
     "output_type": "error",
     "traceback": [
      "\u001b[0;31m---------------------------------------------------------------------------\u001b[0m",
      "\u001b[0;31mNameError\u001b[0m                                 Traceback (most recent call last)",
      "\u001b[0;32m<ipython-input-2-a2df7c36d130>\u001b[0m in \u001b[0;36m<module>\u001b[0;34m\u001b[0m\n\u001b[1;32m      1\u001b[0m \u001b[0;31m#instantiate the model object\u001b[0m\u001b[0;34m\u001b[0m\u001b[0;34m\u001b[0m\u001b[0;34m\u001b[0m\u001b[0m\n\u001b[1;32m      2\u001b[0m \u001b[0mclf\u001b[0m \u001b[0;34m=\u001b[0m \u001b[0mLogisticRegression\u001b[0m\u001b[0;34m(\u001b[0m\u001b[0mmulti_class\u001b[0m\u001b[0;34m=\u001b[0m\u001b[0;34m'multinomial'\u001b[0m\u001b[0;34m,\u001b[0m\u001b[0msolver\u001b[0m\u001b[0;34m=\u001b[0m\u001b[0;34m'lbfgs'\u001b[0m\u001b[0;34m)\u001b[0m\u001b[0;34m\u001b[0m\u001b[0;34m\u001b[0m\u001b[0m\n\u001b[0;32m----> 3\u001b[0;31m \u001b[0mclf\u001b[0m\u001b[0;34m.\u001b[0m\u001b[0mfit\u001b[0m\u001b[0;34m(\u001b[0m\u001b[0mX_train\u001b[0m\u001b[0;34m,\u001b[0m\u001b[0my_train\u001b[0m\u001b[0;34m)\u001b[0m\u001b[0;34m\u001b[0m\u001b[0;34m\u001b[0m\u001b[0m\n\u001b[0m\u001b[1;32m      4\u001b[0m \u001b[0mLogisticRegression\u001b[0m\u001b[0;34m(\u001b[0m\u001b[0mmulti_class\u001b[0m\u001b[0;34m=\u001b[0m\u001b[0;34m'multinomial'\u001b[0m\u001b[0;34m)\u001b[0m\u001b[0;34m\u001b[0m\u001b[0;34m\u001b[0m\u001b[0m\n\u001b[1;32m      5\u001b[0m \u001b[0;34m\u001b[0m\u001b[0m\n",
      "\u001b[0;31mNameError\u001b[0m: name 'X_train' is not defined"
     ]
    }
   ],
   "source": [
    "# instantiate the model object\n",
    "mlr = LogisticRegression(multi_class='multinomial',solver='lbfgs')\n",
    "\n",
    "# \n",
    "mlr.fit(X_train,y_train)\n",
    "LogisticRegression(multi_class='multinomial')\n",
    "\n",
    "# predict on the X_train\n",
    "train_predictions = clf.predict(X_train)\n",
    "\n",
    "# predict on the X_test\n",
    "test_predictions = clf.predict(X_test)"
   ]
  }
 ],
 "metadata": {
  "kernelspec": {
   "display_name": "Python 3",
   "language": "python",
   "name": "python3"
  },
  "language_info": {
   "codemirror_mode": {
    "name": "ipython",
    "version": 3
   },
   "file_extension": ".py",
   "mimetype": "text/x-python",
   "name": "python",
   "nbconvert_exporter": "python",
   "pygments_lexer": "ipython3",
   "version": "3.6.13"
  }
 },
 "nbformat": 4,
 "nbformat_minor": 5
}
